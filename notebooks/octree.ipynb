{
 "cells": [
  {
   "cell_type": "code",
   "execution_count": null,
   "metadata": {
    "pycharm": {
     "is_executing": true
    }
   },
   "outputs": [],
   "source": [
    "import numpy as np\n",
    "import open3d as o3d"
   ]
  },
  {
   "cell_type": "code",
   "execution_count": 3,
   "metadata": {},
   "outputs": [],
   "source": [
    "from typing import Annotated, Literal, TypeVar, Optional, Tuple\n",
    "import numpy.typing as npt\n",
    "\n",
    "DType = TypeVar(\"DType\", bound=np.generic)\n",
    "Array3 = Annotated[npt.NDArray[DType], Literal[3]]\n",
    "ArrayNx3 = Annotated[npt.NDArray[DType], Literal[\"N\", 3]]\n",
    "ArrayNx4 = Annotated[npt.NDArray[DType], Literal[\"N\", 4]]\n",
    "ArrayNx8 = Annotated[npt.NDArray[DType], Literal[\"N\", 8]]"
   ]
  },
  {
   "cell_type": "code",
   "execution_count": 16,
   "metadata": {
    "pycharm": {
     "name": "#%%\n"
    }
   },
   "outputs": [],
   "source": [
    "class Plane:\n",
    "    \"\"\"\n",
    "    Class represents plane, which contains relevant properties.\n",
    "    \"\"\"\n",
    "    def __init__(self) -> None:\n",
    "        self.points: ArrayNx3[np.float64] = None\n",
    "        self.residual_value: Optional[np.float64] = None\n",
    "        self.normal_vector: Optional[ArrayNx4[np.float64]] = None\n",
    "\n",
    "\n",
    "    def insert(self, point: Array3[np.float64]) -> None:\n",
    "        if self.points is None:\n",
    "            self.points = np.array([point])\n",
    "            return\n",
    "        \n",
    "        self.points = np.append(self.points, [point], axis=0)\n",
    "        self.residual_value = None\n",
    "        self.normal_vector = None\n",
    "\n",
    "\n",
    "    def calculate_residual_value(self) -> Optional[np.float64]:\n",
    "        if self.points is None:\n",
    "            return None\n",
    "\n",
    "        self.calculate_normal_vector()\n",
    "        self.residual_value = np.abs(self.points @ self.normal_vector) / np.linalg.norm(self.normal_vector)\n",
    "\n",
    "        return self.residual_value\n",
    "\n",
    "\n",
    "    def calculate_normal_vector(self) -> Optional[ArrayNx4[np.float64]]:\n",
    "        if self.points is None:\n",
    "            return None\n",
    "        \n",
    "        o3d_pcd = o3d.geometry.PointCloud(o3d.utility.Vector3dVector(self.points))\n",
    "        self.normal_vector, _ = o3d_pcd.segment_plane(\n",
    "            distance_threshold=0.1, ransac_n=3, num_iterations=5000\n",
    "        )\n",
    "\n",
    "        return self.normal_vector\n",
    "\n",
    "\n",
    "class Octree:\n",
    "    \"\"\"\n",
    "    Class represents octree struct to segment planes from it.\n",
    "    \"\"\"\n",
    "    def __init__(self, depth: int) -> None:\n",
    "        assert depth >= 0\n",
    "        \n",
    "        self.depth: int = depth\n",
    "        self.is_empty: bool = True\n",
    "        self.children: Optional[ArrayNx8] = [None] * 8\n",
    "        self.plane: Optional[Plane] = None\n",
    "        self.bottom_bound: Optional[int] = None\n",
    "        self.top_bound: Optional[int] = None\n",
    "\n",
    "\n",
    "    def get_point_cloud_bounds(self, point_cloud: o3d.geometry.PointCloud) -> Tuple[np.float64, np.float64]:\n",
    "        if self.bottom_bound is None and self.top_bound is None:\n",
    "            o3d_pcd = o3d.geometry.PointCloud(o3d.utility.Vector3dVector(point_cloud.points))\n",
    "            self.top_bound, self.bottom_bound = o3d_pcd.get_min_bound(), o3d_pcd.get_max_bound()\n",
    "\n",
    "        return self.top_bound, self.bottom_bound\n",
    "    \n",
    "\n",
    "    def get_octet_number(self, point: Array3[np.float64]) -> int:\n",
    "        center_x, center_y, center_z = (self.top_bound + self.bottom_bound) / 2\n",
    "        point_x, point_y, point_z = point\n",
    "\n",
    "        if point_x < center_x:\n",
    "            if point_y < center_y:\n",
    "                if point_z < center_z:\n",
    "                    return 0\n",
    "                else:\n",
    "                    return 4\n",
    "            else:\n",
    "                if point_z < center_z:\n",
    "                    return 1\n",
    "                else:\n",
    "                    return 5\n",
    "        else:\n",
    "            if point_y < center_y:\n",
    "                if point_z < center_z:\n",
    "                    return 3\n",
    "                else:\n",
    "                    return 7\n",
    "            else:\n",
    "                if point_z < center_z:\n",
    "                    return 2\n",
    "                else:\n",
    "                    return 6\n",
    "                \n",
    "\n",
    "    def insert(self, point: Array3[np.float64]) -> None:\n",
    "        if self.depth == 0:\n",
    "            self.plane = Plane()\n",
    "            self.plane.insert(point)\n",
    "            return\n",
    "\n",
    "        octet = self.get_octet_number(point)\n",
    "\n",
    "        if self.children[octet] is None:\n",
    "            self.children[octet] = Octree(self.depth - 1)\n",
    "\n",
    "        self.children[octet].insert(point)\n",
    "\n",
    "\n",
    "    def build(self, point_cloud: o3d.geometry.PointCloud):\n",
    "        assert len(point_cloud.points) != 0\n",
    "\n",
    "        self.get_point_cloud_bounds(point_cloud)\n",
    "        self.is_empty = False\n",
    "\n",
    "        for point in point_cloud.points:\n",
    "            self.insert(point)\n",
    "\n",
    "    \n",
    "    def visualize(self) -> None:\n",
    "        pass"
   ]
  },
  {
   "cell_type": "markdown",
   "metadata": {},
   "source": [
    "<img src=\"assets/voxel.jpg\" width=\"900\" height=\"640\" />"
   ]
  },
  {
   "cell_type": "code",
   "execution_count": 5,
   "metadata": {},
   "outputs": [
    {
     "data": {
      "text/plain": [
       "std::vector<Eigen::Vector3d> with 22096 elements.\n",
       "Use numpy.asarray() to access data."
      ]
     },
     "execution_count": 5,
     "metadata": {},
     "output_type": "execute_result"
    }
   ],
   "source": [
    "pcd_file = \"../data/data/clouds/0.pcd\"\n",
    "point_cloud = o3d.io.read_point_cloud(pcd_file)\n",
    "point_cloud_points = point_cloud.points"
   ]
  },
  {
   "cell_type": "code",
   "execution_count": 17,
   "metadata": {},
   "outputs": [],
   "source": [
    "octree = Octree()"
   ]
  }
 ],
 "metadata": {
  "kernelspec": {
   "display_name": "venv",
   "language": "python",
   "name": "python3"
  },
  "language_info": {
   "codemirror_mode": {
    "name": "ipython",
    "version": 3
   },
   "file_extension": ".py",
   "mimetype": "text/x-python",
   "name": "python",
   "nbconvert_exporter": "python",
   "pygments_lexer": "ipython3",
   "version": "3.10.12"
  },
  "orig_nbformat": 4
 },
 "nbformat": 4,
 "nbformat_minor": 2
}