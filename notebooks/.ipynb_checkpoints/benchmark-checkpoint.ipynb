{
 "cells": [
  {
   "cell_type": "code",
   "execution_count": 89,
   "id": "d009f3b8-3f04-4aac-b10a-4a2e0a34836e",
   "metadata": {},
   "outputs": [],
   "source": [
    "import sys\n",
    "import mrob\n",
    "import time\n",
    "from octreelib.grid import Grid, GridConfig, VisualizationConfig\n",
    "from octreelib.octree import MultiPoseOctree, OctreeConfig\n",
    "from typing import Tuple, List\n",
    "import numpy as np\n",
    "import open3d as o3d\n",
    "\n",
    "sys.path.append(\"..\")\n",
    "if True:\n",
    "    from slam.backend import BaregBackend, EigenFactorBackend\n",
    "    from slam.pipeline import StaticPipeline, StaticPipelineRuntimeParameters\n",
    "    from slam.segmenter import CAPESegmenter, RansacSegmenter\n",
    "    from slam.subdivider import CountSubdivider, EigenValueSubdivider, SizeSubdivider\n",
    "    from slam.utils import HiltiReader, KittiReader"
   ]
  },
  {
   "cell_type": "markdown",
   "id": "f9abd5ee-f5b6-4449-97a9-6289e5a2196f",
   "metadata": {},
   "source": [
    "# Benchmark configuration"
   ]
  },
  {
   "cell_type": "code",
   "execution_count": 87,
   "id": "4e183c65-5a53-4152-a1e0-9eeb8afc49de",
   "metadata": {},
   "outputs": [],
   "source": [
    "SAMPLES_COUNT = 10"
   ]
  },
  {
   "cell_type": "markdown",
   "id": "85973c76-3a6f-42a0-84d7-cd4d5f85e63b",
   "metadata": {},
   "source": [
    "### Utils"
   ]
  },
  {
   "cell_type": "code",
   "execution_count": 90,
   "id": "49fcabc0-83d2-4bdb-821e-4f5735930ca1",
   "metadata": {},
   "outputs": [],
   "source": [
    "def pretty_print(subdivide_ts: List[float], segmenters_ts: List[float], backend_ts: List[float]):\n",
    "    def metrics(ts: List[float]):\n",
    "        print(f\"\\tmin = {round(np.min(subdivide_ts), 3)}s\")\n",
    "        print(f\"\\tmax = {round(np.max(subdivide_ts), 3)}s\")\n",
    "        print(f\"\\tmean = {round(np.mean(subdivide_ts), 3)}s\")\n",
    "        print(f\"\\tstd = {round(np.std(subdivide_ts), 3)}s\")\n",
    "        \n",
    "    subdivide_ts = np.array(subdivide_ts)\n",
    "    segmenters_ts = np.array(segmenters_ts)\n",
    "    backend_ts = np.array(backend_ts)\n",
    "    \n",
    "    print(\"Subdivide stage:\")\n",
    "    metrics(subdivide_ts)\n",
    "    print(\"Segmenters stage:\")\n",
    "    metrics(segmenters_ts)\n",
    "    print(\"Backend stage:\")\n",
    "    metrics(backend_ts)"
   ]
  },
  {
   "cell_type": "markdown",
   "id": "55859ebe-b6df-4fea-8749-2a2e89b3114e",
   "metadata": {},
   "source": [
    "## Pipeline"
   ]
  },
  {
   "cell_type": "code",
   "execution_count": 91,
   "id": "22088f09-504b-4221-a0df-8bd09ad2a15c",
   "metadata": {},
   "outputs": [],
   "source": [
    "step = 3\n",
    "\n",
    "def pipeline(point_clouds: List[o3d.geometry.PointCloud]) -> Tuple[float, float, float]:\n",
    "    # Pipeline configuration\n",
    "    # ----------------------\n",
    "    subdividers = [\n",
    "        SizeSubdivider(\n",
    "            size=4,\n",
    "        ),\n",
    "    ]\n",
    "    \n",
    "    segmenters = [\n",
    "        RansacSegmenter(\n",
    "            threshold=0.01,\n",
    "            initial_points=6,\n",
    "            iterations=5000,\n",
    "        ),\n",
    "    ]\n",
    "    \n",
    "    backend = EigenFactorBackend(\n",
    "        poses_number=step,\n",
    "        iterations_number=5000,\n",
    "    )\n",
    "\n",
    "    grid = Grid(\n",
    "        GridConfig(\n",
    "            octree_type=MultiPoseOctree,\n",
    "            octree_config=OctreeConfig(),\n",
    "            grid_voxel_edge_length=25,\n",
    "        )\n",
    "    )\n",
    "    # ----------------------\n",
    "    \n",
    "    middle_pose_number = 1\n",
    "    \n",
    "    grid.insert_points(\n",
    "            middle_pose_number,\n",
    "            point_clouds[middle_pose_number].points,\n",
    "    )\n",
    "    \n",
    "    subdivide_start = time.perf_counter()\n",
    "    grid.subdivide(subdividers)\n",
    "    subdivide_end = time.perf_counter() - subdivide_start\n",
    "\n",
    "    for pose_number, point_cloud in enumerate(point_clouds):\n",
    "        if pose_number == middle_pose_number:\n",
    "            continue\n",
    "        grid.insert_points(pose_number, point_cloud.points)\n",
    "\n",
    "    segmenters_start = time.perf_counter()\n",
    "    for segmenter in segmenters:\n",
    "        grid.map_leaf_points(segmenter)\n",
    "    segmenters_end = time.perf_counter() - segmenters_start\n",
    "\n",
    "    backend_start = time.perf_counter()\n",
    "    backend.process(grid)\n",
    "    backend_end = time.perf_counter() - backend_start\n",
    "\n",
    "    return subdivide_end, segmenters_end, backend_end"
   ]
  },
  {
   "cell_type": "markdown",
   "id": "dbde949b-d63a-4e4a-820a-0e1c6d9c6520",
   "metadata": {},
   "source": [
    "# Hilti dataset evaluation"
   ]
  },
  {
   "cell_type": "code",
   "execution_count": 92,
   "id": "1156e0c8-d70d-4c12-a9ff-773ca383912b",
   "metadata": {},
   "outputs": [
    {
     "name": "stdout",
     "output_type": "stream",
     "text": [
      "Patch 0 -> 3; Samples count = 10\n",
      "Sample: 0\n",
      "Iterations equals 0\n",
      "Iterations equals 0\n",
      "Iterations equals 0\n",
      "Iterations equals 0\n",
      "Iterations equals 0\n",
      "Iterations equals 0\n",
      "Iterations equals 0\n",
      "Iterations equals 0\n",
      "Iterations equals 0\n",
      "Iterations equals 0\n",
      "Iterations equals 0\n",
      "Iterations equals 0\n",
      "Iterations equals 0\n",
      "Iterations equals 0\n",
      "Iterations equals 0\n",
      "Iterations equals 0\n",
      "Iterations equals 0\n",
      "Iterations equals 0\n",
      "Iterations equals 0\n",
      "Iterations equals 0\n",
      "Iterations equals 0\n",
      "Iterations equals 0\n",
      "Iterations equals 0\n",
      "Iterations equals 0\n",
      "Iterations equals 0\n",
      "Iterations equals 0\n",
      "Iterations equals 0\n",
      "Iterations equals 0\n",
      "Iterations equals 0\n",
      "Iterations equals 0\n",
      "Iterations equals 0\n",
      "Iterations equals 0\n",
      "Iterations equals 0\n",
      "Iterations equals 0\n",
      "Iterations equals 0\n",
      "Iterations equals 0\n",
      "Iterations equals 0\n",
      "Iterations equals 0\n",
      "Iterations equals 0\n",
      "Iterations equals 0\n",
      "Iterations equals 0\n",
      "Iterations equals 0\n",
      "Iterations equals 0\n",
      "Iterations equals 0\n",
      "Iterations equals 0\n",
      "Iterations equals 0\n",
      "Iterations equals 0\n",
      "Iterations equals 0\n",
      "Iterations equals 0\n",
      "Iterations equals 0\n",
      "Iterations equals 0\n",
      "Iterations equals 0\n",
      "Iterations equals 0\n"
     ]
    },
    {
     "ename": "KeyboardInterrupt",
     "evalue": "",
     "output_type": "error",
     "traceback": [
      "\u001b[0;31m---------------------------------------------------------------------------\u001b[0m",
      "\u001b[0;31mKeyboardInterrupt\u001b[0m                         Traceback (most recent call last)",
      "Cell \u001b[0;32mIn[92], line 26\u001b[0m\n\u001b[1;32m     24\u001b[0m \u001b[38;5;28mprint\u001b[39m(\u001b[38;5;124mf\u001b[39m\u001b[38;5;124m\"\u001b[39m\u001b[38;5;124mSample: \u001b[39m\u001b[38;5;132;01m{\u001b[39;00msample\u001b[38;5;132;01m}\u001b[39;00m\u001b[38;5;124m\"\u001b[39m)\n\u001b[1;32m     25\u001b[0m point_clouds \u001b[38;5;241m=\u001b[39m read_hilti_patch(ind)\n\u001b[0;32m---> 26\u001b[0m subdivide_t, segmenters_t, backend_t \u001b[38;5;241m=\u001b[39m \u001b[43mpipeline\u001b[49m\u001b[43m(\u001b[49m\u001b[43mpoint_clouds\u001b[49m\u001b[43m)\u001b[49m\n\u001b[1;32m     28\u001b[0m subdivide_ts\u001b[38;5;241m.\u001b[39mappend(subdivide_t)\n\u001b[1;32m     29\u001b[0m segmenters_ts\u001b[38;5;241m.\u001b[39mappend(segmenters_t)\n",
      "Cell \u001b[0;32mIn[91], line 56\u001b[0m, in \u001b[0;36mpipeline\u001b[0;34m(point_clouds)\u001b[0m\n\u001b[1;32m     53\u001b[0m segmenters_end \u001b[38;5;241m=\u001b[39m time\u001b[38;5;241m.\u001b[39mperf_counter() \u001b[38;5;241m-\u001b[39m segmenters_start\n\u001b[1;32m     55\u001b[0m backend_start \u001b[38;5;241m=\u001b[39m time\u001b[38;5;241m.\u001b[39mperf_counter()\n\u001b[0;32m---> 56\u001b[0m \u001b[43mbackend\u001b[49m\u001b[38;5;241;43m.\u001b[39;49m\u001b[43mprocess\u001b[49m\u001b[43m(\u001b[49m\u001b[43mgrid\u001b[49m\u001b[43m)\u001b[49m\n\u001b[1;32m     57\u001b[0m backend_end \u001b[38;5;241m=\u001b[39m time\u001b[38;5;241m.\u001b[39mperf_counter() \u001b[38;5;241m-\u001b[39m backend_start\n\u001b[1;32m     59\u001b[0m \u001b[38;5;28;01mreturn\u001b[39;00m subdivide_end, segmenters_end, backend_end\n",
      "File \u001b[0;32m~/Documents/voxel-slam/notebooks/../slam/backend/mrob_backend.py:74\u001b[0m, in \u001b[0;36mMROBBackend.process\u001b[0;34m(self, grid)\u001b[0m\n\u001b[1;32m     72\u001b[0m \u001b[38;5;28;01mwhile\u001b[39;00m converge_iterations \u001b[38;5;241m==\u001b[39m \u001b[38;5;241m0\u001b[39m:\n\u001b[1;32m     73\u001b[0m     \u001b[38;5;28mprint\u001b[39m(\u001b[38;5;124m\"\u001b[39m\u001b[38;5;124mIterations equals 0\u001b[39m\u001b[38;5;124m\"\u001b[39m)\n\u001b[0;32m---> 74\u001b[0m     converge_iterations \u001b[38;5;241m=\u001b[39m \u001b[38;5;28;43mself\u001b[39;49m\u001b[38;5;241;43m.\u001b[39;49m\u001b[43m_graph\u001b[49m\u001b[38;5;241;43m.\u001b[39;49m\u001b[43msolve\u001b[49m\u001b[43m(\u001b[49m\n\u001b[1;32m     75\u001b[0m \u001b[43m        \u001b[49m\u001b[43mmrob\u001b[49m\u001b[38;5;241;43m.\u001b[39;49m\u001b[43mLM_ELLIPS\u001b[49m\u001b[43m,\u001b[49m\u001b[43m \u001b[49m\u001b[38;5;28;43mself\u001b[39;49m\u001b[38;5;241;43m.\u001b[39;49m\u001b[43m_iterations_number\u001b[49m\n\u001b[1;32m     76\u001b[0m \u001b[43m    \u001b[49m\u001b[43m)\u001b[49m\n\u001b[1;32m     78\u001b[0m metrics\u001b[38;5;241m.\u001b[39mappend(\n\u001b[1;32m     79\u001b[0m     Metric(name\u001b[38;5;241m=\u001b[39m\u001b[38;5;124m\"\u001b[39m\u001b[38;5;124mIterations to converge\u001b[39m\u001b[38;5;124m\"\u001b[39m, value\u001b[38;5;241m=\u001b[39mconverge_iterations),\n\u001b[1;32m     80\u001b[0m )\n\u001b[1;32m     81\u001b[0m metrics\u001b[38;5;241m.\u001b[39mappend(\n\u001b[1;32m     82\u001b[0m     Metric(name\u001b[38;5;241m=\u001b[39m\u001b[38;5;124m\"\u001b[39m\u001b[38;5;124mchi2\u001b[39m\u001b[38;5;124m\"\u001b[39m, value\u001b[38;5;241m=\u001b[39m\u001b[38;5;28mself\u001b[39m\u001b[38;5;241m.\u001b[39m_graph\u001b[38;5;241m.\u001b[39mchi2()),\n\u001b[1;32m     83\u001b[0m )\n",
      "\u001b[0;31mKeyboardInterrupt\u001b[0m: "
     ]
    }
   ],
   "source": [
    "hilti_dataset_path = \"../evaluation/hilti\"\n",
    "hilti_clouds = os.path.join(hilti_dataset_path, \"clouds\")\n",
    "hilti_poses = os.path.join(hilti_dataset_path, \"poses\")\n",
    "\n",
    "def read_hilti_patch(start: int) -> List[o3d.geometry.PointCloud]:\n",
    "    point_clouds = []\n",
    "    for s in range(start, start + step):\n",
    "        point_cloud_path = os.path.join(hilti_clouds, str(s) + \".pcd\")\n",
    "        pose_path = os.path.join(hilti_poses, str(s) + \".txt\")\n",
    "        point_cloud = HiltiReader.read_point_cloud(filename=point_cloud_path)\n",
    "        pose = HiltiReader.read_pose(filename=pose_path)\n",
    "\n",
    "        point_cloud.transform(pose)\n",
    "        point_clouds.append(point_cloud)\n",
    "\n",
    "    return point_clouds\n",
    "    \n",
    "\n",
    "for ind in range(0, 3, step):\n",
    "    print(f\"Patch {ind} -> {ind + step}; Samples count = {SAMPLES_COUNT}\")\n",
    "    subdivide_ts, segmenters_ts, backend_ts = [], [], []\n",
    "    \n",
    "    for sample in range(SAMPLES_COUNT):\n",
    "        print(f\"Sample: {sample}\")\n",
    "        point_clouds = read_hilti_patch(ind)\n",
    "        subdivide_t, segmenters_t, backend_t = pipeline(point_clouds)\n",
    "        \n",
    "        subdivide_ts.append(subdivide_t)\n",
    "        segmenters_ts.append(segmenters_t)\n",
    "        backend_ts.append(backend_t)\n",
    "\n",
    "    pretty_print(subdivide_ts, segmenters_ts, backend_ts)"
   ]
  },
  {
   "cell_type": "markdown",
   "id": "5d285f8f-d597-42e6-884a-dbdc6376a6b7",
   "metadata": {},
   "source": [
    "# Kitti dataset evaluation"
   ]
  },
  {
   "cell_type": "code",
   "execution_count": null,
   "id": "f311fdea-e813-4bda-aff2-7fb294dafe82",
   "metadata": {},
   "outputs": [],
   "source": []
  }
 ],
 "metadata": {
  "kernelspec": {
   "display_name": "Python 3 (ipykernel)",
   "language": "python",
   "name": "python3"
  },
  "language_info": {
   "codemirror_mode": {
    "name": "ipython",
    "version": 3
   },
   "file_extension": ".py",
   "mimetype": "text/x-python",
   "name": "python",
   "nbconvert_exporter": "python",
   "pygments_lexer": "ipython3",
   "version": "3.10.12"
  }
 },
 "nbformat": 4,
 "nbformat_minor": 5
}
